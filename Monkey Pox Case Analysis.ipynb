{
 "cells": [
  {
   "cell_type": "code",
   "execution_count": 1,
   "metadata": {},
   "outputs": [],
   "source": [
    "import numpy as np\n",
    "import pandas as pd\n",
    "import matplotlib.pyplot as plt\n",
    "import seaborn as sns"
   ]
  },
  {
   "cell_type": "code",
   "execution_count": 2,
   "metadata": {},
   "outputs": [
    {
     "data": {
      "text/html": [
       "<div>\n",
       "<style scoped>\n",
       "    .dataframe tbody tr th:only-of-type {\n",
       "        vertical-align: middle;\n",
       "    }\n",
       "\n",
       "    .dataframe tbody tr th {\n",
       "        vertical-align: top;\n",
       "    }\n",
       "\n",
       "    .dataframe thead th {\n",
       "        text-align: right;\n",
       "    }\n",
       "</style>\n",
       "<table border=\"1\" class=\"dataframe\">\n",
       "  <thead>\n",
       "    <tr style=\"text-align: right;\">\n",
       "      <th></th>\n",
       "      <th>Country</th>\n",
       "      <th>Confirmed_Cases</th>\n",
       "      <th>Suspected_Cases</th>\n",
       "      <th>Hospitalized</th>\n",
       "      <th>Travel_History_Yes</th>\n",
       "      <th>Travel_History_No</th>\n",
       "    </tr>\n",
       "  </thead>\n",
       "  <tbody>\n",
       "    <tr>\n",
       "      <th>0</th>\n",
       "      <td>Andorra</td>\n",
       "      <td>4</td>\n",
       "      <td>0</td>\n",
       "      <td>0</td>\n",
       "      <td>0</td>\n",
       "      <td>0</td>\n",
       "    </tr>\n",
       "    <tr>\n",
       "      <th>1</th>\n",
       "      <td>Argentina</td>\n",
       "      <td>326</td>\n",
       "      <td>0</td>\n",
       "      <td>0</td>\n",
       "      <td>11</td>\n",
       "      <td>1</td>\n",
       "    </tr>\n",
       "    <tr>\n",
       "      <th>2</th>\n",
       "      <td>Aruba</td>\n",
       "      <td>3</td>\n",
       "      <td>0</td>\n",
       "      <td>0</td>\n",
       "      <td>0</td>\n",
       "      <td>0</td>\n",
       "    </tr>\n",
       "    <tr>\n",
       "      <th>3</th>\n",
       "      <td>Australia</td>\n",
       "      <td>132</td>\n",
       "      <td>0</td>\n",
       "      <td>2</td>\n",
       "      <td>9</td>\n",
       "      <td>0</td>\n",
       "    </tr>\n",
       "    <tr>\n",
       "      <th>4</th>\n",
       "      <td>Austria</td>\n",
       "      <td>304</td>\n",
       "      <td>0</td>\n",
       "      <td>2</td>\n",
       "      <td>1</td>\n",
       "      <td>0</td>\n",
       "    </tr>\n",
       "    <tr>\n",
       "      <th>5</th>\n",
       "      <td>Bahamas</td>\n",
       "      <td>2</td>\n",
       "      <td>0</td>\n",
       "      <td>0</td>\n",
       "      <td>1</td>\n",
       "      <td>0</td>\n",
       "    </tr>\n",
       "    <tr>\n",
       "      <th>6</th>\n",
       "      <td>Bahrain</td>\n",
       "      <td>1</td>\n",
       "      <td>0</td>\n",
       "      <td>0</td>\n",
       "      <td>1</td>\n",
       "      <td>0</td>\n",
       "    </tr>\n",
       "    <tr>\n",
       "      <th>7</th>\n",
       "      <td>Bangladesh</td>\n",
       "      <td>0</td>\n",
       "      <td>0</td>\n",
       "      <td>0</td>\n",
       "      <td>0</td>\n",
       "      <td>0</td>\n",
       "    </tr>\n",
       "    <tr>\n",
       "      <th>8</th>\n",
       "      <td>Barbados</td>\n",
       "      <td>1</td>\n",
       "      <td>0</td>\n",
       "      <td>0</td>\n",
       "      <td>0</td>\n",
       "      <td>0</td>\n",
       "    </tr>\n",
       "    <tr>\n",
       "      <th>9</th>\n",
       "      <td>Belgium</td>\n",
       "      <td>757</td>\n",
       "      <td>0</td>\n",
       "      <td>2</td>\n",
       "      <td>1</td>\n",
       "      <td>0</td>\n",
       "    </tr>\n",
       "  </tbody>\n",
       "</table>\n",
       "</div>"
      ],
      "text/plain": [
       "      Country  Confirmed_Cases  Suspected_Cases  Hospitalized  \\\n",
       "0     Andorra                4                0             0   \n",
       "1   Argentina              326                0             0   \n",
       "2       Aruba                3                0             0   \n",
       "3   Australia              132                0             2   \n",
       "4     Austria              304                0             2   \n",
       "5     Bahamas                2                0             0   \n",
       "6     Bahrain                1                0             0   \n",
       "7  Bangladesh                0                0             0   \n",
       "8    Barbados                1                0             0   \n",
       "9     Belgium              757                0             2   \n",
       "\n",
       "   Travel_History_Yes  Travel_History_No  \n",
       "0                   0                  0  \n",
       "1                  11                  1  \n",
       "2                   0                  0  \n",
       "3                   9                  0  \n",
       "4                   1                  0  \n",
       "5                   1                  0  \n",
       "6                   1                  0  \n",
       "7                   0                  0  \n",
       "8                   0                  0  \n",
       "9                   1                  0  "
      ]
     },
     "execution_count": 2,
     "metadata": {},
     "output_type": "execute_result"
    }
   ],
   "source": [
    "Pox_Cases = pd.read_csv('Monkey Pox Cases.csv')\n",
    "Pox_Cases.head(10)"
   ]
  },
  {
   "cell_type": "code",
   "execution_count": 3,
   "metadata": {},
   "outputs": [
    {
     "name": "stdout",
     "output_type": "stream",
     "text": [
      "<class 'pandas.core.frame.DataFrame'>\n",
      "RangeIndex: 129 entries, 0 to 128\n",
      "Data columns (total 6 columns):\n",
      "Country               129 non-null object\n",
      "Confirmed_Cases       129 non-null int64\n",
      "Suspected_Cases       129 non-null int64\n",
      "Hospitalized          129 non-null int64\n",
      "Travel_History_Yes    129 non-null int64\n",
      "Travel_History_No     129 non-null int64\n",
      "dtypes: int64(5), object(1)\n",
      "memory usage: 6.1+ KB\n"
     ]
    }
   ],
   "source": [
    "Pox_Cases.info()"
   ]
  },
  {
   "cell_type": "code",
   "execution_count": 4,
   "metadata": {},
   "outputs": [
    {
     "data": {
      "text/plain": [
       "Serbia                        1\n",
       "Chile                         1\n",
       "Austria                       1\n",
       "Australia                     1\n",
       "Philippines                   1\n",
       "New Caledonia                 1\n",
       "Lithuania                     1\n",
       "Bahrain                       1\n",
       "Ecuador                       1\n",
       "Andorra                       1\n",
       "Uruguay                       1\n",
       "Iran                          1\n",
       "Mauritius                     1\n",
       "Indonesia                     1\n",
       "Poland                        1\n",
       "Cambodia                      1\n",
       "Cameroon                      1\n",
       "Thailand                      1\n",
       "French Guiana                 1\n",
       "South Sudan                   1\n",
       "Argentina                     1\n",
       "England                       1\n",
       "Guadeloupe                    1\n",
       "Israel                        1\n",
       "Saudi Arabia                  1\n",
       "Puerto Rico                   1\n",
       "Moldova                       1\n",
       "Barbados                      1\n",
       "Haiti                         1\n",
       "Netherlands                   1\n",
       "                             ..\n",
       "Peru                          1\n",
       "Slovenia                      1\n",
       "Zambia                        1\n",
       "Saint Martin (French part)    1\n",
       "Malaysia                      1\n",
       "Canada                        1\n",
       "Pakistan                      1\n",
       "Cuba                          1\n",
       "El Salvador                   1\n",
       "Fiji                          1\n",
       "Ireland                       1\n",
       "Russia                        1\n",
       "Montenegro                    1\n",
       "Wales                         1\n",
       "Turkey                        1\n",
       "Jamaica                       1\n",
       "Greece                        1\n",
       "Georgia                       1\n",
       "Denmark                       1\n",
       "Venezuela                     1\n",
       "Bahamas                       1\n",
       "Uganda                        1\n",
       "Guyana                        1\n",
       "Monaco                        1\n",
       "Germany                       1\n",
       "Ukraine                       1\n",
       "Norway                        1\n",
       "Latvia                        1\n",
       "Qatar                         1\n",
       "Benin                         1\n",
       "Name: Country, Length: 129, dtype: int64"
      ]
     },
     "execution_count": 4,
     "metadata": {},
     "output_type": "execute_result"
    }
   ],
   "source": [
    "Pox_Cases['Country'].value_counts()"
   ]
  },
  {
   "cell_type": "code",
   "execution_count": 5,
   "metadata": {},
   "outputs": [
    {
     "data": {
      "text/plain": [
       "Country               0\n",
       "Confirmed_Cases       0\n",
       "Suspected_Cases       0\n",
       "Hospitalized          0\n",
       "Travel_History_Yes    0\n",
       "Travel_History_No     0\n",
       "dtype: int64"
      ]
     },
     "execution_count": 5,
     "metadata": {},
     "output_type": "execute_result"
    }
   ],
   "source": [
    "Pox_Cases.isnull().sum()"
   ]
  },
  {
   "cell_type": "code",
   "execution_count": 6,
   "metadata": {},
   "outputs": [
    {
     "data": {
      "text/html": [
       "<div>\n",
       "<style scoped>\n",
       "    .dataframe tbody tr th:only-of-type {\n",
       "        vertical-align: middle;\n",
       "    }\n",
       "\n",
       "    .dataframe tbody tr th {\n",
       "        vertical-align: top;\n",
       "    }\n",
       "\n",
       "    .dataframe thead th {\n",
       "        text-align: right;\n",
       "    }\n",
       "</style>\n",
       "<table border=\"1\" class=\"dataframe\">\n",
       "  <thead>\n",
       "    <tr style=\"text-align: right;\">\n",
       "      <th></th>\n",
       "      <th>Confirmed_Cases</th>\n",
       "      <th>Suspected_Cases</th>\n",
       "      <th>Hospitalized</th>\n",
       "      <th>Travel_History_Yes</th>\n",
       "      <th>Travel_History_No</th>\n",
       "    </tr>\n",
       "  </thead>\n",
       "  <tbody>\n",
       "    <tr>\n",
       "      <th>count</th>\n",
       "      <td>129.000000</td>\n",
       "      <td>129.000000</td>\n",
       "      <td>129.000000</td>\n",
       "      <td>129.000000</td>\n",
       "      <td>129.000000</td>\n",
       "    </tr>\n",
       "    <tr>\n",
       "      <th>mean</th>\n",
       "      <td>505.542636</td>\n",
       "      <td>28.472868</td>\n",
       "      <td>1.170543</td>\n",
       "      <td>2.124031</td>\n",
       "      <td>0.705426</td>\n",
       "    </tr>\n",
       "    <tr>\n",
       "      <th>std</th>\n",
       "      <td>2376.143711</td>\n",
       "      <td>254.846647</td>\n",
       "      <td>2.795432</td>\n",
       "      <td>4.758229</td>\n",
       "      <td>3.512040</td>\n",
       "    </tr>\n",
       "    <tr>\n",
       "      <th>min</th>\n",
       "      <td>0.000000</td>\n",
       "      <td>0.000000</td>\n",
       "      <td>0.000000</td>\n",
       "      <td>0.000000</td>\n",
       "      <td>0.000000</td>\n",
       "    </tr>\n",
       "    <tr>\n",
       "      <th>25%</th>\n",
       "      <td>2.000000</td>\n",
       "      <td>0.000000</td>\n",
       "      <td>0.000000</td>\n",
       "      <td>0.000000</td>\n",
       "      <td>0.000000</td>\n",
       "    </tr>\n",
       "    <tr>\n",
       "      <th>50%</th>\n",
       "      <td>6.000000</td>\n",
       "      <td>0.000000</td>\n",
       "      <td>0.000000</td>\n",
       "      <td>1.000000</td>\n",
       "      <td>0.000000</td>\n",
       "    </tr>\n",
       "    <tr>\n",
       "      <th>75%</th>\n",
       "      <td>77.000000</td>\n",
       "      <td>0.000000</td>\n",
       "      <td>1.000000</td>\n",
       "      <td>2.000000</td>\n",
       "      <td>0.000000</td>\n",
       "    </tr>\n",
       "    <tr>\n",
       "      <th>max</th>\n",
       "      <td>24403.000000</td>\n",
       "      <td>2852.000000</td>\n",
       "      <td>18.000000</td>\n",
       "      <td>41.000000</td>\n",
       "      <td>34.000000</td>\n",
       "    </tr>\n",
       "  </tbody>\n",
       "</table>\n",
       "</div>"
      ],
      "text/plain": [
       "       Confirmed_Cases  Suspected_Cases  Hospitalized  Travel_History_Yes  \\\n",
       "count       129.000000       129.000000    129.000000          129.000000   \n",
       "mean        505.542636        28.472868      1.170543            2.124031   \n",
       "std        2376.143711       254.846647      2.795432            4.758229   \n",
       "min           0.000000         0.000000      0.000000            0.000000   \n",
       "25%           2.000000         0.000000      0.000000            0.000000   \n",
       "50%           6.000000         0.000000      0.000000            1.000000   \n",
       "75%          77.000000         0.000000      1.000000            2.000000   \n",
       "max       24403.000000      2852.000000     18.000000           41.000000   \n",
       "\n",
       "       Travel_History_No  \n",
       "count         129.000000  \n",
       "mean            0.705426  \n",
       "std             3.512040  \n",
       "min             0.000000  \n",
       "25%             0.000000  \n",
       "50%             0.000000  \n",
       "75%             0.000000  \n",
       "max            34.000000  "
      ]
     },
     "execution_count": 6,
     "metadata": {},
     "output_type": "execute_result"
    }
   ],
   "source": [
    "Pox_Cases.describe()"
   ]
  },
  {
   "cell_type": "code",
   "execution_count": 7,
   "metadata": {},
   "outputs": [
    {
     "data": {
      "text/plain": [
       "(129, 6)"
      ]
     },
     "execution_count": 7,
     "metadata": {},
     "output_type": "execute_result"
    }
   ],
   "source": [
    "Pox_Cases.shape"
   ]
  },
  {
   "cell_type": "code",
   "execution_count": 8,
   "metadata": {},
   "outputs": [
    {
     "data": {
      "text/plain": [
       "<matplotlib.axes._subplots.AxesSubplot at 0x1fcc20e0940>"
      ]
     },
     "execution_count": 8,
     "metadata": {},
     "output_type": "execute_result"
    },
    {
     "data": {
      "image/png": "[encoded data removed]",
      "text/plain": [
       "<Figure size 432x288 with 1 Axes>"
      ]
     },
     "metadata": {
      "needs_background": "light"
     },
     "output_type": "display_data"
    }
   ],
   "source": [
    "sns.heatmap(Pox_Cases.isnull(),yticklabels=False,cbar=False,cmap='viridis')"
   ]
  }
 ],
 "metadata": {
  "kernelspec": {
   "display_name": "Python 3",
   "language": "python",
   "name": "python3"
  },
  "language_info": {
   "codemirror_mode": {
    "name": "ipython",
    "version": 3
   },
   "file_extension": ".py",
   "mimetype": "text/x-python",
   "name": "python",
   "nbconvert_exporter": "python",
   "pygments_lexer": "ipython3",
   "version": "3.7.3"
  }
 },
 "nbformat": 4,
 "nbformat_minor": 2
}
